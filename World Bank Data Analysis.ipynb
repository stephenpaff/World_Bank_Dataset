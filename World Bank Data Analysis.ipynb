{
 "cells": [
  {
   "cell_type": "markdown",
   "metadata": {},
   "source": [
    "World Bank Data Analysis \n",
    "\n",
    "In this project, I cleaned up the data from the World Bank. The dataset was initially in JSON format and can be found on this website: http://jsonstudio.com/resources/. \n",
    "\n",
    "\n",
    "\n",
    "I conducted three tasks with the dataset: \n",
    "\n",
    "1) I found the 10 countries with most projects.\n",
    "\n",
    "2) I found the top 10 major project themes, using column 'mjtheme_namecode'.\n",
    "\n",
    "3) In 2, I noticed that some entries have only the code and the name is missing, so I created a new dataframe with the missing names filled in."
   ]
  },
  {
   "cell_type": "code",
   "execution_count": 1,
   "metadata": {
    "collapsed": true
   },
   "outputs": [],
   "source": [
    "## I will start by importing the dataset and the pandas and JSON packages. "
   ]
  },
  {
   "cell_type": "code",
   "execution_count": 2,
   "metadata": {
    "collapsed": true
   },
   "outputs": [],
   "source": [
    "# Imports\n",
    "import pandas as pd\n",
    "import json\n",
    "from pandas.io.json import json_normalize"
   ]
  },
  {
   "cell_type": "code",
   "execution_count": 3,
   "metadata": {
    "collapsed": false
   },
   "outputs": [
    {
     "data": {
      "text/html": [
       "<div>\n",
       "<table border=\"1\" class=\"dataframe\">\n",
       "  <thead>\n",
       "    <tr style=\"text-align: right;\">\n",
       "      <th></th>\n",
       "      <th>_id</th>\n",
       "      <th>approvalfy</th>\n",
       "      <th>board_approval_month</th>\n",
       "      <th>boardapprovaldate</th>\n",
       "      <th>borrower</th>\n",
       "      <th>closingdate</th>\n",
       "      <th>country_namecode</th>\n",
       "      <th>countrycode</th>\n",
       "      <th>countryname</th>\n",
       "      <th>countryshortname</th>\n",
       "      <th>...</th>\n",
       "      <th>sectorcode</th>\n",
       "      <th>source</th>\n",
       "      <th>status</th>\n",
       "      <th>supplementprojectflg</th>\n",
       "      <th>theme1</th>\n",
       "      <th>theme_namecode</th>\n",
       "      <th>themecode</th>\n",
       "      <th>totalamt</th>\n",
       "      <th>totalcommamt</th>\n",
       "      <th>url</th>\n",
       "    </tr>\n",
       "  </thead>\n",
       "  <tbody>\n",
       "    <tr>\n",
       "      <th>0</th>\n",
       "      <td>{'$oid': '52b213b38594d8a2be17c780'}</td>\n",
       "      <td>1999</td>\n",
       "      <td>November</td>\n",
       "      <td>2013-11-12T00:00:00Z</td>\n",
       "      <td>FEDERAL DEMOCRATIC REPUBLIC OF ETHIOPIA</td>\n",
       "      <td>2018-07-07T00:00:00Z</td>\n",
       "      <td>Federal Democratic Republic of Ethiopia!$!ET</td>\n",
       "      <td>ET</td>\n",
       "      <td>Federal Democratic Republic of Ethiopia</td>\n",
       "      <td>Ethiopia</td>\n",
       "      <td>...</td>\n",
       "      <td>ET,BS,ES,EP</td>\n",
       "      <td>IBRD</td>\n",
       "      <td>Active</td>\n",
       "      <td>N</td>\n",
       "      <td>{'Percent': 100, 'Name': 'Education for all'}</td>\n",
       "      <td>[{'code': '65', 'name': 'Education for all'}]</td>\n",
       "      <td>65</td>\n",
       "      <td>130000000</td>\n",
       "      <td>130000000</td>\n",
       "      <td>http://www.worldbank.org/projects/P129828/ethi...</td>\n",
       "    </tr>\n",
       "    <tr>\n",
       "      <th>1</th>\n",
       "      <td>{'$oid': '52b213b38594d8a2be17c781'}</td>\n",
       "      <td>2015</td>\n",
       "      <td>November</td>\n",
       "      <td>2013-11-04T00:00:00Z</td>\n",
       "      <td>GOVERNMENT OF TUNISIA</td>\n",
       "      <td>NaN</td>\n",
       "      <td>Republic of Tunisia!$!TN</td>\n",
       "      <td>TN</td>\n",
       "      <td>Republic of Tunisia</td>\n",
       "      <td>Tunisia</td>\n",
       "      <td>...</td>\n",
       "      <td>BZ,BS</td>\n",
       "      <td>IBRD</td>\n",
       "      <td>Active</td>\n",
       "      <td>N</td>\n",
       "      <td>{'Percent': 30, 'Name': 'Other economic manage...</td>\n",
       "      <td>[{'code': '24', 'name': 'Other economic manage...</td>\n",
       "      <td>54,24</td>\n",
       "      <td>0</td>\n",
       "      <td>4700000</td>\n",
       "      <td>http://www.worldbank.org/projects/P144674?lang=en</td>\n",
       "    </tr>\n",
       "    <tr>\n",
       "      <th>2</th>\n",
       "      <td>{'$oid': '52b213b38594d8a2be17c782'}</td>\n",
       "      <td>2014</td>\n",
       "      <td>November</td>\n",
       "      <td>2013-11-01T00:00:00Z</td>\n",
       "      <td>MINISTRY OF FINANCE AND ECONOMIC DEVEL</td>\n",
       "      <td>NaN</td>\n",
       "      <td>Tuvalu!$!TV</td>\n",
       "      <td>TV</td>\n",
       "      <td>Tuvalu</td>\n",
       "      <td>Tuvalu</td>\n",
       "      <td>...</td>\n",
       "      <td>TI</td>\n",
       "      <td>IBRD</td>\n",
       "      <td>Active</td>\n",
       "      <td>Y</td>\n",
       "      <td>{'Percent': 46, 'Name': 'Regional integration'}</td>\n",
       "      <td>[{'code': '47', 'name': 'Regional integration'...</td>\n",
       "      <td>52,81,25,47</td>\n",
       "      <td>6060000</td>\n",
       "      <td>6060000</td>\n",
       "      <td>http://www.worldbank.org/projects/P145310?lang=en</td>\n",
       "    </tr>\n",
       "    <tr>\n",
       "      <th>3</th>\n",
       "      <td>{'$oid': '52b213b38594d8a2be17c783'}</td>\n",
       "      <td>2014</td>\n",
       "      <td>October</td>\n",
       "      <td>2013-10-31T00:00:00Z</td>\n",
       "      <td>MIN. OF PLANNING AND INT'L COOPERATION</td>\n",
       "      <td>NaN</td>\n",
       "      <td>Republic of Yemen!$!RY</td>\n",
       "      <td>RY</td>\n",
       "      <td>Republic of Yemen</td>\n",
       "      <td>Yemen, Republic of</td>\n",
       "      <td>...</td>\n",
       "      <td>JB</td>\n",
       "      <td>IBRD</td>\n",
       "      <td>Active</td>\n",
       "      <td>N</td>\n",
       "      <td>{'Percent': 50, 'Name': 'Participation and civ...</td>\n",
       "      <td>[{'code': '57', 'name': 'Participation and civ...</td>\n",
       "      <td>59,57</td>\n",
       "      <td>0</td>\n",
       "      <td>1500000</td>\n",
       "      <td>http://www.worldbank.org/projects/P144665?lang=en</td>\n",
       "    </tr>\n",
       "    <tr>\n",
       "      <th>4</th>\n",
       "      <td>{'$oid': '52b213b38594d8a2be17c784'}</td>\n",
       "      <td>2014</td>\n",
       "      <td>October</td>\n",
       "      <td>2013-10-31T00:00:00Z</td>\n",
       "      <td>MINISTRY OF FINANCE</td>\n",
       "      <td>2019-04-30T00:00:00Z</td>\n",
       "      <td>Kingdom of Lesotho!$!LS</td>\n",
       "      <td>LS</td>\n",
       "      <td>Kingdom of Lesotho</td>\n",
       "      <td>Lesotho</td>\n",
       "      <td>...</td>\n",
       "      <td>FH,YW,YZ</td>\n",
       "      <td>IBRD</td>\n",
       "      <td>Active</td>\n",
       "      <td>N</td>\n",
       "      <td>{'Percent': 30, 'Name': 'Export development an...</td>\n",
       "      <td>[{'code': '45', 'name': 'Export development an...</td>\n",
       "      <td>41,45</td>\n",
       "      <td>13100000</td>\n",
       "      <td>13100000</td>\n",
       "      <td>http://www.worldbank.org/projects/P144933/seco...</td>\n",
       "    </tr>\n",
       "  </tbody>\n",
       "</table>\n",
       "<p>5 rows × 50 columns</p>\n",
       "</div>"
      ],
      "text/plain": [
       "                                    _id  approvalfy board_approval_month  \\\n",
       "0  {'$oid': '52b213b38594d8a2be17c780'}        1999             November   \n",
       "1  {'$oid': '52b213b38594d8a2be17c781'}        2015             November   \n",
       "2  {'$oid': '52b213b38594d8a2be17c782'}        2014             November   \n",
       "3  {'$oid': '52b213b38594d8a2be17c783'}        2014              October   \n",
       "4  {'$oid': '52b213b38594d8a2be17c784'}        2014              October   \n",
       "\n",
       "      boardapprovaldate                                 borrower  \\\n",
       "0  2013-11-12T00:00:00Z  FEDERAL DEMOCRATIC REPUBLIC OF ETHIOPIA   \n",
       "1  2013-11-04T00:00:00Z                    GOVERNMENT OF TUNISIA   \n",
       "2  2013-11-01T00:00:00Z   MINISTRY OF FINANCE AND ECONOMIC DEVEL   \n",
       "3  2013-10-31T00:00:00Z   MIN. OF PLANNING AND INT'L COOPERATION   \n",
       "4  2013-10-31T00:00:00Z                      MINISTRY OF FINANCE   \n",
       "\n",
       "            closingdate                              country_namecode  \\\n",
       "0  2018-07-07T00:00:00Z  Federal Democratic Republic of Ethiopia!$!ET   \n",
       "1                   NaN                      Republic of Tunisia!$!TN   \n",
       "2                   NaN                                   Tuvalu!$!TV   \n",
       "3                   NaN                        Republic of Yemen!$!RY   \n",
       "4  2019-04-30T00:00:00Z                       Kingdom of Lesotho!$!LS   \n",
       "\n",
       "  countrycode                              countryname    countryshortname  \\\n",
       "0          ET  Federal Democratic Republic of Ethiopia            Ethiopia   \n",
       "1          TN                      Republic of Tunisia             Tunisia   \n",
       "2          TV                                   Tuvalu              Tuvalu   \n",
       "3          RY                        Republic of Yemen  Yemen, Republic of   \n",
       "4          LS                       Kingdom of Lesotho             Lesotho   \n",
       "\n",
       "                         ...                           sectorcode source  \\\n",
       "0                        ...                          ET,BS,ES,EP   IBRD   \n",
       "1                        ...                                BZ,BS   IBRD   \n",
       "2                        ...                                   TI   IBRD   \n",
       "3                        ...                                   JB   IBRD   \n",
       "4                        ...                             FH,YW,YZ   IBRD   \n",
       "\n",
       "   status  supplementprojectflg  \\\n",
       "0  Active                     N   \n",
       "1  Active                     N   \n",
       "2  Active                     Y   \n",
       "3  Active                     N   \n",
       "4  Active                     N   \n",
       "\n",
       "                                              theme1  \\\n",
       "0      {'Percent': 100, 'Name': 'Education for all'}   \n",
       "1  {'Percent': 30, 'Name': 'Other economic manage...   \n",
       "2    {'Percent': 46, 'Name': 'Regional integration'}   \n",
       "3  {'Percent': 50, 'Name': 'Participation and civ...   \n",
       "4  {'Percent': 30, 'Name': 'Export development an...   \n",
       "\n",
       "                                      theme_namecode    themecode   totalamt  \\\n",
       "0      [{'code': '65', 'name': 'Education for all'}]           65  130000000   \n",
       "1  [{'code': '24', 'name': 'Other economic manage...        54,24          0   \n",
       "2  [{'code': '47', 'name': 'Regional integration'...  52,81,25,47    6060000   \n",
       "3  [{'code': '57', 'name': 'Participation and civ...        59,57          0   \n",
       "4  [{'code': '45', 'name': 'Export development an...        41,45   13100000   \n",
       "\n",
       "  totalcommamt                                                url  \n",
       "0    130000000  http://www.worldbank.org/projects/P129828/ethi...  \n",
       "1      4700000  http://www.worldbank.org/projects/P144674?lang=en  \n",
       "2      6060000  http://www.worldbank.org/projects/P145310?lang=en  \n",
       "3      1500000  http://www.worldbank.org/projects/P144665?lang=en  \n",
       "4     13100000  http://www.worldbank.org/projects/P144933/seco...  \n",
       "\n",
       "[5 rows x 50 columns]"
      ]
     },
     "execution_count": 3,
     "metadata": {},
     "output_type": "execute_result"
    }
   ],
   "source": [
    "# This reads the creates a Pandas Dataframe out of the json file. \n",
    "df = pd.read_json('world_bank_projects.json')\n",
    "df.head()"
   ]
  },
  {
   "cell_type": "code",
   "execution_count": null,
   "metadata": {
    "collapsed": true
   },
   "outputs": [],
   "source": []
  },
  {
   "cell_type": "markdown",
   "metadata": {},
   "source": [
    "Task 1: \n",
    "\n",
    "Find the 10 countries with the most projects"
   ]
  },
  {
   "cell_type": "code",
   "execution_count": 5,
   "metadata": {
    "collapsed": false
   },
   "outputs": [
    {
     "data": {
      "text/plain": [
       "Indonesia             19\n",
       "China                 19\n",
       "Vietnam               17\n",
       "India                 16\n",
       "Yemen, Republic of    13\n",
       "Nepal                 12\n",
       "Bangladesh            12\n",
       "Morocco               12\n",
       "Africa                11\n",
       "Mozambique            11\n",
       "Name: countryshortname, dtype: int64"
      ]
     },
     "execution_count": 5,
     "metadata": {},
     "output_type": "execute_result"
    }
   ],
   "source": [
    "# The following outputs the countries with the most projects. \n",
    "\n",
    "df.countryshortname.value_counts().head(10)\n",
    "\n",
    "# There is one problem, though: it includes Africa as a country\n",
    "# in 9th spot. \n",
    "# Several projects which are in multiple African countries have \n",
    "# \"Africa\" stored as their country. "
   ]
  },
  {
   "cell_type": "code",
   "execution_count": 6,
   "metadata": {
    "collapsed": false
   },
   "outputs": [
    {
     "data": {
      "text/plain": [
       "Indonesia             19\n",
       "China                 19\n",
       "Vietnam               17\n",
       "India                 16\n",
       "Yemen, Republic of    13\n",
       "Nepal                 12\n",
       "Bangladesh            12\n",
       "Morocco               12\n",
       "Mozambique            11\n",
       "Pakistan               9\n",
       "Name: countryshortname, dtype: int64"
      ]
     },
     "execution_count": 6,
     "metadata": {},
     "output_type": "execute_result"
    }
   ],
   "source": [
    "# The database does not store which specific\n",
    "# African countries are involved in these projects with Africa as the label,\n",
    "# so I do not have access to which specific African countries these projects are in, \n",
    "# meaning I can do little with those data values. \n",
    "# Thus I will create a new data frame that excludes the projects\n",
    "# with Africa as their country label and find its 10 most common countries. \n",
    "\n",
    "# df_notAfr is the copy of the dataframe excluding projects labelled with \n",
    "# Africa as their company name. \n",
    "df_notAfr = df[df.countryshortname != \"Africa\"]\n",
    "df_notAfr.countryshortname.value_counts().head(10)"
   ]
  },
  {
   "cell_type": "code",
   "execution_count": null,
   "metadata": {
    "collapsed": true
   },
   "outputs": [],
   "source": []
  },
  {
   "cell_type": "markdown",
   "metadata": {},
   "source": [
    "Task 2: \n",
    "\n",
    "Find the 10 major project themes, using column 'mjtheme_namecode'"
   ]
  },
  {
   "cell_type": "code",
   "execution_count": 7,
   "metadata": {
    "collapsed": false
   },
   "outputs": [
    {
     "data": {
      "text/plain": [
       "0     [{'code': '8', 'name': 'Human development'}, {...\n",
       "1     [{'code': '1', 'name': 'Economic management'},...\n",
       "2     [{'code': '5', 'name': 'Trade and integration'...\n",
       "3     [{'code': '7', 'name': 'Social dev/gender/incl...\n",
       "4     [{'code': '5', 'name': 'Trade and integration'...\n",
       "5     [{'code': '6', 'name': 'Social protection and ...\n",
       "6     [{'code': '2', 'name': 'Public sector governan...\n",
       "7     [{'code': '11', 'name': 'Environment and natur...\n",
       "8     [{'code': '10', 'name': 'Rural development'}, ...\n",
       "9     [{'code': '2', 'name': 'Public sector governan...\n",
       "10    [{'code': '10', 'name': 'Rural development'}, ...\n",
       "11    [{'code': '10', 'name': 'Rural development'}, ...\n",
       "12                          [{'code': '4', 'name': ''}]\n",
       "13    [{'code': '5', 'name': 'Trade and integration'...\n",
       "14    [{'code': '6', 'name': 'Social protection and ...\n",
       "15    [{'code': '10', 'name': 'Rural development'}, ...\n",
       "16    [{'code': '10', 'name': 'Rural development'}, ...\n",
       "17    [{'code': '8', 'name': 'Human development'}, {...\n",
       "18    [{'code': '8', 'name': 'Human development'}, {...\n",
       "19    [{'code': '2', 'name': 'Public sector governan...\n",
       "Name: mjtheme_namecode, dtype: object"
      ]
     },
     "execution_count": 7,
     "metadata": {},
     "output_type": "execute_result"
    }
   ],
   "source": [
    "# A detailed inspection of mjtheme_namecode in df reveals that\n",
    "# each project contains list of dictionaries containing the code\n",
    "# values and corresponding code name (with some names missing, \n",
    "# which I will address in Task 3).\n",
    "\n",
    "# Note: Upon closer inspection, all the codes are between \n",
    "# 1 and 11, and all filled code names are consistent. \n",
    "# For example, all code 8 values with a non-empty name are\n",
    "# named consistently. \n",
    "# Also note: Some projects include code repeats. For example, the third\n",
    "# project includes Code 7 twice. The counting method below will make \n",
    "# that multiple projects from one code are only counted once. \n",
    "\n",
    "# This is the highest code value. \n",
    "code_max = 11\n",
    "\n",
    "df.mjtheme_namecode.head(20)"
   ]
  },
  {
   "cell_type": "code",
   "execution_count": 8,
   "metadata": {
    "collapsed": false
   },
   "outputs": [
    {
     "data": {
      "text/plain": [
       "1      33\n",
       "2     140\n",
       "3      14\n",
       "4     119\n",
       "5      61\n",
       "6     116\n",
       "7     114\n",
       "8     128\n",
       "9      40\n",
       "10    148\n",
       "11    157\n",
       "dtype: int64"
      ]
     },
     "execution_count": 8,
     "metadata": {},
     "output_type": "execute_result"
    }
   ],
   "source": [
    "# Counts the number of projects that invoke each code, \n",
    "# storing that as a dictionary and then converting it to a Series. \n",
    "\n",
    "# md, short of 'master dictionary', will store the number of\n",
    "# projects that invoke each code number. \n",
    "md = { }\n",
    "\n",
    "# Initialize each code's count at zero. \n",
    "for i in range(1, code_max+1):\n",
    "    md[i] = 0\n",
    "    \n",
    "# Move through each set of stored codes for each project to \n",
    "# count the number of projects that include each code. \n",
    "for x in range(len(df)):\n",
    "    # d stores the codes used for each project\n",
    "    d = {}\n",
    "    for y in range(len(df.mjtheme_namecode[x])):\n",
    "        d[int(df.mjtheme_namecode[x][y]['code'])] = 1\n",
    "    \n",
    "    # Adds the d to overall count in md\n",
    "    for i in d.keys():\n",
    "        md[i] += 1\n",
    "\n",
    "# mdf, short for 'master dataframe', stores the number of projects\n",
    "# that invoke each code number, converting md to a series \n",
    "# that I can now use Pandas to analyze the top occurences. \n",
    "mdf = pd.Series(md)\n",
    "mdf"
   ]
  },
  {
   "cell_type": "code",
   "execution_count": 10,
   "metadata": {
    "collapsed": false
   },
   "outputs": [
    {
     "data": {
      "text/plain": [
       "11    157\n",
       "10    148\n",
       "2     140\n",
       "8     128\n",
       "4     119\n",
       "6     116\n",
       "7     114\n",
       "5      61\n",
       "9      40\n",
       "1      33\n",
       "dtype: int64"
      ]
     },
     "execution_count": 10,
     "metadata": {},
     "output_type": "execute_result"
    }
   ],
   "source": [
    "# The 10 most frequently invoked codes can now be easily obtained \n",
    "# by simply selecting the top 10 counts in mdf. \n",
    "\n",
    "mdf.sort_values(ascending = False).head(10)"
   ]
  },
  {
   "cell_type": "code",
   "execution_count": null,
   "metadata": {
    "collapsed": true
   },
   "outputs": [],
   "source": []
  },
  {
   "cell_type": "markdown",
   "metadata": {},
   "source": [
    "Task 3: \n",
    "\n",
    "Created a new dataframe with the missing names filled in."
   ]
  },
  {
   "cell_type": "code",
   "execution_count": 15,
   "metadata": {
    "collapsed": false
   },
   "outputs": [
    {
     "name": "stdout",
     "output_type": "stream",
     "text": [
      "{'code': '8', 'name': 'Human development'}\n",
      "{'code': '11', 'name': ''}\n",
      "{'code': '1', 'name': 'Economic management'}\n",
      "{'code': '6', 'name': 'Social protection and risk management'}\n",
      "{'code': '5', 'name': 'Trade and integration'}\n",
      "{'code': '2', 'name': 'Public sector governance'}\n",
      "{'code': '11', 'name': 'Environment and natural resources management'}\n",
      "{'code': '6', 'name': 'Social protection and risk management'}\n",
      "{'code': '7', 'name': 'Social dev/gender/inclusion'}\n",
      "{'code': '7', 'name': 'Social dev/gender/inclusion'}\n",
      "{'code': '5', 'name': 'Trade and integration'}\n",
      "{'code': '4', 'name': 'Financial and private sector development'}\n",
      "{'code': '6', 'name': 'Social protection and risk management'}\n",
      "{'code': '6', 'name': ''}\n",
      "{'code': '2', 'name': 'Public sector governance'}\n",
      "{'code': '4', 'name': 'Financial and private sector development'}\n",
      "{'code': '11', 'name': 'Environment and natural resources management'}\n",
      "{'code': '8', 'name': ''}\n",
      "{'code': '10', 'name': 'Rural development'}\n",
      "{'code': '7', 'name': ''}\n",
      "{'code': '2', 'name': 'Public sector governance'}\n",
      "{'code': '2', 'name': 'Public sector governance'}\n",
      "{'code': '2', 'name': 'Public sector governance'}\n",
      "{'code': '10', 'name': 'Rural development'}\n",
      "{'code': '2', 'name': ''}\n"
     ]
    }
   ],
   "source": [
    "# Printed are all the codes for all the projects. Looking through this \n",
    "# large output, one notices that several code names are blank. \n",
    "# I will fill in the gaps. \n",
    "\n",
    "# limit will provide how many times it will print through the long output, and counter will increase until it hits limit.\n",
    "limit = 25\n",
    "counter = 0\n",
    "\n",
    "for x in range(len(df.mjtheme_namecode)):\n",
    "    for y in range(len(df.mjtheme_namecode[x])):\n",
    "        print(df.mjtheme_namecode[x][y])\n",
    "        counter += 1\n",
    "    if(counter >= limit):\n",
    "        break\n"
   ]
  },
  {
   "cell_type": "code",
   "execution_count": 17,
   "metadata": {
    "collapsed": true
   },
   "outputs": [],
   "source": [
    "# code_names are the list of the proper code names in order. \n",
    "# Note: The first list value is empty because there is no name for code: '0'. \n",
    "# Thus the first non-empty code name corresponds with code_names[1]. \n",
    "\n",
    "code_names = [ \"\",\n",
    "    'Economic management', \n",
    "    'Public sector governance', \n",
    "    'Rule of law',\n",
    "    'Financial and private sector development', \n",
    "    'Trade and integration', \n",
    "    'Social protection and risk management', \n",
    "    'Social dev/gender/inclusion', \n",
    "    'Human development', \n",
    "    'Urban development', \n",
    "    'Rural development', \n",
    "    'Environment and natural resources management'\n",
    "]"
   ]
  },
  {
   "cell_type": "code",
   "execution_count": 18,
   "metadata": {
    "collapsed": true
   },
   "outputs": [],
   "source": [
    "# df_copy will be the copy of the dataframe with the correct names\n",
    "df_copy = df.copy()\n",
    "\n",
    "# Looks through each code name, and if it is empty, stores the proper name in its place\n",
    "for x in range(len(df_copy.mjtheme_namecode)):\n",
    "    for y in range(len(df_copy.mjtheme_namecode[x])):\n",
    "        if(df_copy.mjtheme_namecode[x][y]['name'] == \"\"):\n",
    "            df_copy.mjtheme_namecode[x][y]['name'] = code_names[int(df_copy.mjtheme_namecode[x][y]['code'])]"
   ]
  },
  {
   "cell_type": "code",
   "execution_count": 19,
   "metadata": {
    "collapsed": false
   },
   "outputs": [
    {
     "name": "stdout",
     "output_type": "stream",
     "text": [
      "{'code': '8', 'name': 'Human development'}\n",
      "{'code': '11', 'name': 'Environment and natural resources management'}\n",
      "{'code': '1', 'name': 'Economic management'}\n",
      "{'code': '6', 'name': 'Social protection and risk management'}\n",
      "{'code': '5', 'name': 'Trade and integration'}\n",
      "{'code': '2', 'name': 'Public sector governance'}\n",
      "{'code': '11', 'name': 'Environment and natural resources management'}\n",
      "{'code': '6', 'name': 'Social protection and risk management'}\n",
      "{'code': '7', 'name': 'Social dev/gender/inclusion'}\n",
      "{'code': '7', 'name': 'Social dev/gender/inclusion'}\n",
      "{'code': '5', 'name': 'Trade and integration'}\n",
      "{'code': '4', 'name': 'Financial and private sector development'}\n",
      "{'code': '6', 'name': 'Social protection and risk management'}\n",
      "{'code': '6', 'name': 'Social protection and risk management'}\n",
      "{'code': '2', 'name': 'Public sector governance'}\n",
      "{'code': '4', 'name': 'Financial and private sector development'}\n",
      "{'code': '11', 'name': 'Environment and natural resources management'}\n",
      "{'code': '8', 'name': 'Human development'}\n",
      "{'code': '10', 'name': 'Rural development'}\n",
      "{'code': '7', 'name': 'Social dev/gender/inclusion'}\n",
      "{'code': '2', 'name': 'Public sector governance'}\n",
      "{'code': '2', 'name': 'Public sector governance'}\n",
      "{'code': '2', 'name': 'Public sector governance'}\n",
      "{'code': '10', 'name': 'Rural development'}\n",
      "{'code': '2', 'name': 'Public sector governance'}\n"
     ]
    }
   ],
   "source": [
    "# Inspecting the code names of df_copy, one see that none are empty.\n",
    "\n",
    "# limit will provide how many times it will print through the long output, and counter will increase until it hits limit.\n",
    "limit = 25\n",
    "counter = 0\n",
    "\n",
    "for x in range(len(df_copy.mjtheme_namecode)):\n",
    "    for y in range(len(df_copy.mjtheme_namecode[x])):\n",
    "        print(df_copy.mjtheme_namecode[x][y])\n",
    "        counter += 1\n",
    "    if(counter >= limit):\n",
    "        break"
   ]
  },
  {
   "cell_type": "code",
   "execution_count": null,
   "metadata": {
    "collapsed": true
   },
   "outputs": [],
   "source": []
  }
 ],
 "metadata": {
  "kernelspec": {
   "display_name": "Python 3",
   "language": "python",
   "name": "python3"
  },
  "language_info": {
   "codemirror_mode": {
    "name": "ipython",
    "version": 3
   },
   "file_extension": ".py",
   "mimetype": "text/x-python",
   "name": "python",
   "nbconvert_exporter": "python",
   "pygments_lexer": "ipython3",
   "version": "3.6.0"
  }
 },
 "nbformat": 4,
 "nbformat_minor": 2
}
