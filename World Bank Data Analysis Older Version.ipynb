{
 "cells": [
  {
   "cell_type": "markdown",
   "metadata": {},
   "source": [
    "World Bank Data Analysis \n",
    "\n",
    "In this project, I cleaned up the data from the World Bank. The dataset was initially in JSON format and can be found on this website: http://jsonstudio.com/resources/. \n",
    "\n",
    "\n",
    "\n",
    "I conducted three tasks with the dataset: \n",
    "\n",
    "1) I found the 10 countries with most projects.\n",
    "\n",
    "2) I found the top 10 major project themes, using column 'mjtheme_namecode'.\n",
    "\n",
    "3) In 2, I noticed that some entries have only the code and the name is missing, so I created a new dataframe with the missing names filled in."
   ]
  },
  {
   "cell_type": "code",
   "execution_count": 53,
   "metadata": {
    "collapsed": true
   },
   "outputs": [],
   "source": [
    "## I will start by importing the dataset and the pandas and JSON packages. "
   ]
  },
  {
   "cell_type": "code",
   "execution_count": 54,
   "metadata": {
    "collapsed": true
   },
   "outputs": [],
   "source": [
    "# Imports\n",
    "import pandas as pd\n",
    "import json\n",
    "from pandas.io.json import json_normalize"
   ]
  },
  {
   "cell_type": "code",
   "execution_count": 57,
   "metadata": {
    "collapsed": false
   },
   "outputs": [],
   "source": [
    "# Creates a Pandas Dataframe out of the json file. \n",
    "df = pd.read_json('world_bank_projects.json')"
   ]
  },
  {
   "cell_type": "code",
   "execution_count": null,
   "metadata": {
    "collapsed": true
   },
   "outputs": [],
   "source": []
  },
  {
   "cell_type": "markdown",
   "metadata": {},
   "source": [
    "Task 1: \n",
    "\n",
    "Find the 10 countries with the most projects"
   ]
  },
  {
   "cell_type": "code",
   "execution_count": 59,
   "metadata": {
    "collapsed": false
   },
   "outputs": [
    {
     "data": {
      "text/plain": [
       "China                 19\n",
       "Indonesia             19\n",
       "Vietnam               17\n",
       "India                 16\n",
       "Yemen, Republic of    13\n",
       "Morocco               12\n",
       "Nepal                 12\n",
       "Bangladesh            12\n",
       "Mozambique            11\n",
       "Africa                11\n",
       "Name: countryshortname, dtype: int64"
      ]
     },
     "execution_count": 59,
     "metadata": {},
     "output_type": "execute_result"
    }
   ],
   "source": [
    "'''\n",
    "Outputs the countries with the most projects. \n",
    "\n",
    "There is one problem, though: it includes Africa as a country\n",
    "in 9th spot. \n",
    "Several projects which are in multiple African countries have \n",
    "\"Africa\" stored as their country. \n",
    "'''\n",
    "\n",
    "df.countryshortname.value_counts().head(10)"
   ]
  },
  {
   "cell_type": "code",
   "execution_count": 6,
   "metadata": {
    "collapsed": false
   },
   "outputs": [
    {
     "data": {
      "text/plain": [
       "Indonesia             19\n",
       "China                 19\n",
       "Vietnam               17\n",
       "India                 16\n",
       "Yemen, Republic of    13\n",
       "Nepal                 12\n",
       "Bangladesh            12\n",
       "Morocco               12\n",
       "Mozambique            11\n",
       "Pakistan               9\n",
       "Name: countryshortname, dtype: int64"
      ]
     },
     "execution_count": 6,
     "metadata": {},
     "output_type": "execute_result"
    }
   ],
   "source": [
    "'''\n",
    "The database does not store which specific\n",
    "African countries are involved in these projects with Africa as the label,\n",
    "so I do not have access to which specific African countries these projects are in, \n",
    "meaning I can do little with those data values. \n",
    "Thus I will create a new data frame that excludes the projects\n",
    "with Africa as their country label and find its 10 most common countries. \n",
    "'''\n",
    "\n",
    "\n",
    "# df_notAfr is the copy of the dataframe excluding projects labelled with Africa as their company name. \n",
    "df_notAfr = df[df.countryshortname != \"Africa\"]\n",
    "df_notAfr.countryshortname.value_counts().head(10)"
   ]
  },
  {
   "cell_type": "code",
   "execution_count": null,
   "metadata": {
    "collapsed": true
   },
   "outputs": [],
   "source": []
  },
  {
   "cell_type": "markdown",
   "metadata": {},
   "source": [
    "Task 2: \n",
    "\n",
    "Find the 10 major project themes, using column 'mjtheme_namecode'"
   ]
  },
  {
   "cell_type": "code",
   "execution_count": 60,
   "metadata": {
    "collapsed": false
   },
   "outputs": [
    {
     "data": {
      "text/plain": [
       "0     [{'code': '8', 'name': 'Human development'}, {...\n",
       "1     [{'code': '1', 'name': 'Economic management'},...\n",
       "2     [{'code': '5', 'name': 'Trade and integration'...\n",
       "3     [{'code': '7', 'name': 'Social dev/gender/incl...\n",
       "4     [{'code': '5', 'name': 'Trade and integration'...\n",
       "5     [{'code': '6', 'name': 'Social protection and ...\n",
       "6     [{'code': '2', 'name': 'Public sector governan...\n",
       "7     [{'code': '11', 'name': 'Environment and natur...\n",
       "8     [{'code': '10', 'name': 'Rural development'}, ...\n",
       "9     [{'code': '2', 'name': 'Public sector governan...\n",
       "10    [{'code': '10', 'name': 'Rural development'}, ...\n",
       "11    [{'code': '10', 'name': 'Rural development'}, ...\n",
       "12                          [{'code': '4', 'name': ''}]\n",
       "13    [{'code': '5', 'name': 'Trade and integration'...\n",
       "14    [{'code': '6', 'name': 'Social protection and ...\n",
       "15    [{'code': '10', 'name': 'Rural development'}, ...\n",
       "16    [{'code': '10', 'name': 'Rural development'}, ...\n",
       "17    [{'code': '8', 'name': 'Human development'}, {...\n",
       "18    [{'code': '8', 'name': 'Human development'}, {...\n",
       "19    [{'code': '2', 'name': 'Public sector governan...\n",
       "Name: mjtheme_namecode, dtype: object"
      ]
     },
     "execution_count": 60,
     "metadata": {},
     "output_type": "execute_result"
    }
   ],
   "source": [
    "'''\n",
    "A detailed inspection of mjtheme_namecode in df reveals that\n",
    "each project contains list of dictionaries containing the code\n",
    "values and corresponding code name (with some names missing, \n",
    "which I will address in Task 3).\n",
    "\n",
    "Note: Upon closer inspection, all the codes are between \n",
    "1 and 11, and all filled code names are consistent. \n",
    "For example, all code 8 values with a non-empty name are\n",
    "named consistently. \n",
    "Also note: Some projects include code repeats. For example, the third\n",
    "project includes Code 7 twice. The counting method below will make \n",
    "that multiple projects from one code are only counted once. \n",
    "'''\n",
    "\n",
    "# code_max is the highest code value in the dataset\n",
    "code_max = 11\n",
    "\n",
    "df.mjtheme_namecode.head(20)"
   ]
  },
  {
   "cell_type": "code",
   "execution_count": 61,
   "metadata": {
    "collapsed": false
   },
   "outputs": [
    {
     "data": {
      "text/plain": [
       "1      33\n",
       "2     140\n",
       "3      14\n",
       "4     119\n",
       "5      61\n",
       "6     116\n",
       "7     114\n",
       "8     128\n",
       "9      40\n",
       "10    148\n",
       "11    157\n",
       "dtype: int64"
      ]
     },
     "execution_count": 61,
     "metadata": {},
     "output_type": "execute_result"
    }
   ],
   "source": [
    "'''\n",
    "Counts the number of projects that invoke each code, \n",
    "storing that as a dictionary and then converting it to a Series. \n",
    "\n",
    "md, short of 'master dictionary', will store the number of\n",
    "projects that invoke each code number.\n",
    "''' \n",
    "md = { }\n",
    "\n",
    "# Initialize each code's count at zero. \n",
    "for i in range(1, code_max+1):\n",
    "    md[i] = 0\n",
    "    \n",
    "# Move through each set of stored codes for each project to count the number of projects that include each code. \n",
    "for x in range(len(df)):\n",
    "    # d stores the codes used for each project\n",
    "    d = {}\n",
    "    for y in range(len(df.mjtheme_namecode[x])):\n",
    "        d[int(df.mjtheme_namecode[x][y]['code'])] = 1\n",
    "    \n",
    "    # Adds the d to overall count in md\n",
    "    for i in d.keys():\n",
    "        md[i] += 1\n",
    "\n",
    "'''\n",
    "mdf, short for 'master dataframe', stores the number of projects\n",
    "that invoke each code number, converting md to a series \n",
    "that I can now use Pandas to analyze the top occurences.\n",
    "''' \n",
    "mdf = pd.Series(md)\n",
    "mdf"
   ]
  },
  {
   "cell_type": "code",
   "execution_count": 10,
   "metadata": {
    "collapsed": false
   },
   "outputs": [
    {
     "data": {
      "text/plain": [
       "11    157\n",
       "10    148\n",
       "2     140\n",
       "8     128\n",
       "4     119\n",
       "6     116\n",
       "7     114\n",
       "5      61\n",
       "9      40\n",
       "1      33\n",
       "dtype: int64"
      ]
     },
     "execution_count": 10,
     "metadata": {},
     "output_type": "execute_result"
    }
   ],
   "source": [
    "# The 10 most frequently invoked codes can now be easily obtained by simply selecting the top 10 counts in mdf. \n",
    "\n",
    "mdf.sort_values(ascending = False).head(10)"
   ]
  },
  {
   "cell_type": "code",
   "execution_count": null,
   "metadata": {
    "collapsed": true
   },
   "outputs": [],
   "source": []
  },
  {
   "cell_type": "markdown",
   "metadata": {},
   "source": [
    "Alternate Method for Tasks 2: "
   ]
  },
  {
   "cell_type": "code",
   "execution_count": 12,
   "metadata": {
    "collapsed": false
   },
   "outputs": [],
   "source": [
    "'''\n",
    "This alternate method uses json_normalize to determine the most common theme codes and to fill in empty name values. \n",
    "One big difference between this method and my initial approach is that does counts repeats of theme code values. \n",
    "Many projects include one theme more than once. \n",
    "For example, for a project that includes Theme #7 'Social dev/gender/inclusion' twice, \n",
    "my initial approach would only count that as one instance of Theme 7, but the alternative method will count it twice. \n",
    "I am not sure what it means that a project would include a project more than once, so I simply counted how many times a \n",
    "project included a theme as a 0 or 1 value instead of including the number of occurences. Depending on the use of the data, \n",
    "either way is useful. Hence it is helpful to be able to include both for comparison. \n",
    "'''\n",
    "\n",
    "# Creates js, which allows me to to conduct the alternative method\n",
    "js = json.load(open('world_bank_projects.json'))\n"
   ]
  },
  {
   "cell_type": "code",
   "execution_count": 52,
   "metadata": {
    "collapsed": false
   },
   "outputs": [
    {
     "data": {
      "text/plain": [
       "Environment and natural resources management    223\n",
       "Rural development                               202\n",
       "Human development                               197\n",
       "Public sector governance                        184\n",
       "Social protection and risk management           158\n",
       "Financial and private sector development        130\n",
       "                                                122\n",
       "Social dev/gender/inclusion                     119\n",
       "Trade and integration                            72\n",
       "Urban development                                47\n",
       "Name: name, dtype: int64"
      ]
     },
     "execution_count": 52,
     "metadata": {},
     "output_type": "execute_result"
    }
   ],
   "source": [
    "# major_themes normalizes, storing all the mj_theme_namecode dictionary values as a DataFrame \n",
    "major_themes = json_normalize(js, 'mjtheme_namecode', ['id'])\n",
    "# Finds the top 10 most common codes\n",
    "major_themes.name.value_counts().head(10)"
   ]
  },
  {
   "cell_type": "code",
   "execution_count": null,
   "metadata": {
    "collapsed": true
   },
   "outputs": [],
   "source": []
  },
  {
   "cell_type": "markdown",
   "metadata": {},
   "source": [
    "Task 3: \n",
    "\n",
    "Created a new dataframe with the missing names filled in."
   ]
  },
  {
   "cell_type": "code",
   "execution_count": 62,
   "metadata": {
    "collapsed": false
   },
   "outputs": [
    {
     "name": "stdout",
     "output_type": "stream",
     "text": [
      "{'code': '8', 'name': 'Human development'}\n",
      "{'code': '11', 'name': ''}\n",
      "{'code': '1', 'name': 'Economic management'}\n",
      "{'code': '6', 'name': 'Social protection and risk management'}\n",
      "{'code': '5', 'name': 'Trade and integration'}\n",
      "{'code': '2', 'name': 'Public sector governance'}\n",
      "{'code': '11', 'name': 'Environment and natural resources management'}\n",
      "{'code': '6', 'name': 'Social protection and risk management'}\n",
      "{'code': '7', 'name': 'Social dev/gender/inclusion'}\n",
      "{'code': '7', 'name': 'Social dev/gender/inclusion'}\n",
      "{'code': '5', 'name': 'Trade and integration'}\n",
      "{'code': '4', 'name': 'Financial and private sector development'}\n",
      "{'code': '6', 'name': 'Social protection and risk management'}\n",
      "{'code': '6', 'name': ''}\n",
      "{'code': '2', 'name': 'Public sector governance'}\n",
      "{'code': '4', 'name': 'Financial and private sector development'}\n",
      "{'code': '11', 'name': 'Environment and natural resources management'}\n",
      "{'code': '8', 'name': ''}\n",
      "{'code': '10', 'name': 'Rural development'}\n",
      "{'code': '7', 'name': ''}\n",
      "{'code': '2', 'name': 'Public sector governance'}\n",
      "{'code': '2', 'name': 'Public sector governance'}\n",
      "{'code': '2', 'name': 'Public sector governance'}\n",
      "{'code': '10', 'name': 'Rural development'}\n",
      "{'code': '2', 'name': ''}\n"
     ]
    }
   ],
   "source": [
    "'''\n",
    "Printed are all the codes for all the projects. Looking through this \n",
    "large output, one notices that several code names are blank. \n",
    "I will fill in the gaps. \n",
    "\n",
    "limit will provide how many times it will print through the long output, and counter will increase until it hits limit.\n",
    "'''\n",
    "limit = 25\n",
    "counter = 0\n",
    "\n",
    "for x in range(len(df.mjtheme_namecode)):\n",
    "    for y in range(len(df.mjtheme_namecode[x])):\n",
    "        print(df.mjtheme_namecode[x][y])\n",
    "        counter += 1\n",
    "    if(counter >= limit):\n",
    "        break\n"
   ]
  },
  {
   "cell_type": "code",
   "execution_count": 47,
   "metadata": {
    "collapsed": true
   },
   "outputs": [],
   "source": [
    "'''\n",
    "code_names are the list of the proper code names in order. \n",
    "Note: The first list value is empty because there is no name for code: '0'. \n",
    "Thus the first non-empty code name corresponds with code_names[1]. \n",
    "'''\n",
    "\n",
    "code_names = [ \"\",\n",
    "    'Economic management', \n",
    "    'Public sector governance', \n",
    "    'Rule of law',\n",
    "    'Financial and private sector development', \n",
    "    'Trade and integration', \n",
    "    'Social protection and risk management', \n",
    "    'Social dev/gender/inclusion', \n",
    "    'Human development', \n",
    "    'Urban development', \n",
    "    'Rural development', \n",
    "    'Environment and natural resources management'\n",
    "]"
   ]
  },
  {
   "cell_type": "code",
   "execution_count": 18,
   "metadata": {
    "collapsed": true
   },
   "outputs": [],
   "source": [
    "# df_copy will be the copy of the dataframe with the correct names\n",
    "df_copy = df.copy()\n",
    "\n",
    "# Looks through each code name, and if it is empty, stores the proper name in its place\n",
    "for x in range(len(df_copy.mjtheme_namecode)):\n",
    "    for y in range(len(df_copy.mjtheme_namecode[x])):\n",
    "        if(df_copy.mjtheme_namecode[x][y]['name'] == \"\"):\n",
    "            df_copy.mjtheme_namecode[x][y]['name'] = code_names[int(df_copy.mjtheme_namecode[x][y]['code'])]"
   ]
  },
  {
   "cell_type": "code",
   "execution_count": 19,
   "metadata": {
    "collapsed": false
   },
   "outputs": [
    {
     "name": "stdout",
     "output_type": "stream",
     "text": [
      "{'code': '8', 'name': 'Human development'}\n",
      "{'code': '11', 'name': 'Environment and natural resources management'}\n",
      "{'code': '1', 'name': 'Economic management'}\n",
      "{'code': '6', 'name': 'Social protection and risk management'}\n",
      "{'code': '5', 'name': 'Trade and integration'}\n",
      "{'code': '2', 'name': 'Public sector governance'}\n",
      "{'code': '11', 'name': 'Environment and natural resources management'}\n",
      "{'code': '6', 'name': 'Social protection and risk management'}\n",
      "{'code': '7', 'name': 'Social dev/gender/inclusion'}\n",
      "{'code': '7', 'name': 'Social dev/gender/inclusion'}\n",
      "{'code': '5', 'name': 'Trade and integration'}\n",
      "{'code': '4', 'name': 'Financial and private sector development'}\n",
      "{'code': '6', 'name': 'Social protection and risk management'}\n",
      "{'code': '6', 'name': 'Social protection and risk management'}\n",
      "{'code': '2', 'name': 'Public sector governance'}\n",
      "{'code': '4', 'name': 'Financial and private sector development'}\n",
      "{'code': '11', 'name': 'Environment and natural resources management'}\n",
      "{'code': '8', 'name': 'Human development'}\n",
      "{'code': '10', 'name': 'Rural development'}\n",
      "{'code': '7', 'name': 'Social dev/gender/inclusion'}\n",
      "{'code': '2', 'name': 'Public sector governance'}\n",
      "{'code': '2', 'name': 'Public sector governance'}\n",
      "{'code': '2', 'name': 'Public sector governance'}\n",
      "{'code': '10', 'name': 'Rural development'}\n",
      "{'code': '2', 'name': 'Public sector governance'}\n"
     ]
    }
   ],
   "source": [
    "# Inspecting the code names of df_copy, one see that none are empty.\n",
    "\n",
    "# limit will provide how many times it will print through the long output, and counter will increase until it hits limit.\n",
    "limit = 25\n",
    "counter = 0\n",
    "\n",
    "for x in range(len(df_copy.mjtheme_namecode)):\n",
    "    for y in range(len(df_copy.mjtheme_namecode[x])):\n",
    "        print(df_copy.mjtheme_namecode[x][y])\n",
    "        counter += 1\n",
    "    if(counter >= limit):\n",
    "        break"
   ]
  }
 ],
 "metadata": {
  "kernelspec": {
   "display_name": "Python 3",
   "language": "python",
   "name": "python3"
  },
  "language_info": {
   "codemirror_mode": {
    "name": "ipython",
    "version": 3
   },
   "file_extension": ".py",
   "mimetype": "text/x-python",
   "name": "python",
   "nbconvert_exporter": "python",
   "pygments_lexer": "ipython3",
   "version": "3.6.0"
  }
 },
 "nbformat": 4,
 "nbformat_minor": 2
}
